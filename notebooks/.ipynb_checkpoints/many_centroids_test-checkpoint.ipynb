{
 "cells": [
  {
   "cell_type": "code",
   "execution_count": 1,
   "id": "e6140c44",
   "metadata": {},
   "outputs": [
    {
     "name": "stderr",
     "output_type": "stream",
     "text": [
      "/home/daehyeon/anaconda3/envs/kcc/lib/python3.6/site-packages/tqdm/auto.py:22: TqdmWarning: IProgress not found. Please update jupyter and ipywidgets. See https://ipywidgets.readthedocs.io/en/stable/user_install.html\n",
      "  from .autonotebook import tqdm as notebook_tqdm\n"
     ]
    }
   ],
   "source": [
    "from operator import is_\n",
    "import os\n",
    "import sys\n",
    "sys.path.append('../.')\n",
    "import torch\n",
    "import torchvision\n",
    "import torchvision.transforms as transforms\n",
    "import torch.nn as nn\n",
    "import torch.optim as optim\n",
    "import torch.nn.functional as F\n",
    "from torch.utils.tensorboard import SummaryWriter\n",
    "\n",
    "import matplotlib.pyplot as plt\n",
    "import numpy as np\n",
    "\n",
    "import clip\n",
    "\n",
    "from Metrics import base_kmeans_model_evaluation, kmeans_with_init, cosine_kmeans_with_init\n",
    "from networks import CustomCLIP, load_clip_to_cpu, PromptLearner\n",
    "from dataset import get_data, get_cluster\n",
    "from lr_scheduler import ConstantWarmupScheduler"
   ]
  },
  {
   "cell_type": "code",
   "execution_count": 18,
   "id": "71a61d36",
   "metadata": {},
   "outputs": [
    {
     "name": "stdout",
     "output_type": "stream",
     "text": [
      "['RN50', 'RN101', 'RN50x4', 'RN50x16', 'RN50x64', 'ViT-B/32', 'ViT-B/16', 'ViT-L/14', 'ViT-L/14@336px']\n",
      "Device: cuda\n",
      "Current cuda device: 0\n",
      "Count of using GPUs: 4\n",
      "Files already downloaded and verified\n",
      "Files already downloaded and verified\n",
      "Initializing class-specific contexts\n",
      "Initial context: \"X X X X X X X X X X X X X X X X\"\n",
      "Number of context words (tokens): 16\n",
      "done\n"
     ]
    }
   ],
   "source": [
    "clip_backbone = 'ViT-B/32'\n",
    "print(clip.available_models())\n",
    "device = torch.device('cuda') if torch.cuda.is_available() else \"cpu\"\n",
    "print('Device:', device)\n",
    "print('Current cuda device:', torch.cuda.current_device())\n",
    "print('Count of using GPUs:', torch.cuda.device_count())\n",
    "dataset_name = 'cifar10'\n",
    "batch_size =50\n",
    "is_test_dataset = True\n",
    "n_ctx = 16\n",
    "backbone_name = clip_backbone\n",
    "clip_model, preprocess = load_clip_to_cpu(backbone_name)\n",
    "\n",
    "num_classes, dataset, fixed_dataloader = get_data(dataset_name,preprocess,batch_size,is_test_dataset)\n",
    "model = CustomCLIP(clip_model, num_classes, n_ctx=n_ctx)\n",
    "for name, param in model.named_parameters():\n",
    "    if \"prompt_learner\" not in name:\n",
    "        param.requires_grad_(False)\n",
    "model.to(device)\n",
    "print('done')"
   ]
  },
  {
   "cell_type": "code",
   "execution_count": null,
   "id": "3db36f7a",
   "metadata": {},
   "outputs": [],
   "source": [
    "optimizer = torch.optim.Adam(\n",
    "    model.parameters(),\n",
    "    lr=lr,\n",
    "    weight_decay=5e-4,\n",
    "    betas=(0.9, 0.999),\n",
    ")"
   ]
  },
  {
   "cell_type": "code",
   "execution_count": 34,
   "id": "061f8d4f",
   "metadata": {},
   "outputs": [
    {
     "name": "stdout",
     "output_type": "stream",
     "text": [
      "torch.Size([3, 10, 16, 512])\n",
      "d\n"
     ]
    }
   ],
   "source": [
    "for param in model.prompt_learner.parameters():\n",
    "    print(param.shape)"
   ]
  },
  {
   "cell_type": "code",
   "execution_count": 37,
   "id": "274789dd",
   "metadata": {},
   "outputs": [
    {
     "ename": "AttributeError",
     "evalue": "'generator' object has no attribute 'shape'",
     "output_type": "error",
     "traceback": [
      "\u001b[0;31m---------------------------------------------------------------------------\u001b[0m",
      "\u001b[0;31mAttributeError\u001b[0m                            Traceback (most recent call last)",
      "\u001b[0;32m<ipython-input-37-18f0e2f00af5>\u001b[0m in \u001b[0;36m<module>\u001b[0;34m\u001b[0m\n\u001b[0;32m----> 1\u001b[0;31m \u001b[0mmodel\u001b[0m\u001b[0;34m.\u001b[0m\u001b[0mprompt_learner\u001b[0m\u001b[0;34m.\u001b[0m\u001b[0mparameters\u001b[0m\u001b[0;34m(\u001b[0m\u001b[0;34m)\u001b[0m\u001b[0;34m.\u001b[0m\u001b[0mshape\u001b[0m\u001b[0;34m\u001b[0m\u001b[0;34m\u001b[0m\u001b[0m\n\u001b[0m",
      "\u001b[0;31mAttributeError\u001b[0m: 'generator' object has no attribute 'shape'"
     ]
    }
   ],
   "source": []
  },
  {
   "cell_type": "code",
   "execution_count": 67,
   "id": "0485d95e",
   "metadata": {
    "scrolled": true
   },
   "outputs": [
    {
     "name": "stdout",
     "output_type": "stream",
     "text": [
      "Initializing class-specific contexts\n",
      "Initial context: \"X X X X X X X X X X X X X X X X\"\n",
      "Number of context words (tokens): 16\n"
     ]
    }
   ],
   "source": [
    "num_class = 10\n",
    "prompt_learner = PromptLearner(clip_model,num_class,n_ctx)\n",
    "prompt = prompt_learner()\n"
   ]
  },
  {
   "cell_type": "code",
   "execution_count": 30,
   "id": "ca515dbc",
   "metadata": {},
   "outputs": [
    {
     "data": {
      "text/plain": [
       "tensor([[False, False, False,  ..., False, False, False],\n",
       "        [False, False, False,  ..., False, False, False],\n",
       "        [False, False, False,  ..., False, False, False],\n",
       "        ...,\n",
       "        [False, False, False,  ..., False, False, False],\n",
       "        [False, False, False,  ..., False, False, False],\n",
       "        [False, False, False,  ..., False, False, False]])"
      ]
     },
     "execution_count": 30,
     "metadata": {},
     "output_type": "execute_result"
    }
   ],
   "source": [
    "prompt[0][0][1:n_ctx] == prompt[1][0][1:n_ctx]"
   ]
  },
  {
   "cell_type": "code",
   "execution_count": 23,
   "id": "392d2b54",
   "metadata": {},
   "outputs": [
    {
     "data": {
      "text/plain": [
       "tensor([[[ 0.0043, -0.0206,  0.0062],\n",
       "         [-0.0353,  0.0026, -0.0163],\n",
       "         [-0.0052,  0.0173, -0.0002]],\n",
       "\n",
       "        [[ 0.0066,  0.0280,  0.0400],\n",
       "         [-0.0085,  0.0028, -0.0148],\n",
       "         [-0.0121,  0.0081, -0.0067]],\n",
       "\n",
       "        [[ 0.0445, -0.0048,  0.0210],\n",
       "         [-0.0005, -0.0200,  0.0129],\n",
       "         [-0.0017,  0.0196,  0.0182]]])"
      ]
     },
     "execution_count": 23,
     "metadata": {},
     "output_type": "execute_result"
    }
   ],
   "source": [
    "ctx_vectors = torch.empty(3,3,3)\n",
    "torch.nn.init.normal_(ctx_vectors, std=0.02)"
   ]
  },
  {
   "cell_type": "code",
   "execution_count": 11,
   "id": "4ded1620",
   "metadata": {},
   "outputs": [
    {
     "data": {
      "text/plain": [
       "tensor([[[-1.6741e-03,  7.3048e-05, -4.1996e-03,  ..., -3.4096e-03,\n",
       "          -3.9295e-03, -5.5289e-05],\n",
       "         [ 3.3376e-02, -7.4568e-03, -3.8485e-02,  ...,  8.4881e-03,\n",
       "           8.3881e-03, -1.4254e-02],\n",
       "         [ 1.7967e-02, -3.3816e-03,  1.0781e-02,  ...,  7.1968e-03,\n",
       "          -4.0288e-02, -1.8020e-02],\n",
       "         ...,\n",
       "         [-3.9053e-03, -6.3254e-03,  7.3507e-03,  ..., -1.0660e-02,\n",
       "          -2.2764e-02, -1.0908e-02],\n",
       "         [-3.9053e-03, -6.3254e-03,  7.3507e-03,  ..., -1.0660e-02,\n",
       "          -2.2764e-02, -1.0908e-02],\n",
       "         [-3.9053e-03, -6.3254e-03,  7.3507e-03,  ..., -1.0660e-02,\n",
       "          -2.2764e-02, -1.0908e-02]],\n",
       "\n",
       "        [[-1.6741e-03,  7.3048e-05, -4.1996e-03,  ..., -3.4096e-03,\n",
       "          -3.9295e-03, -5.5289e-05],\n",
       "         [-1.2629e-02, -1.8618e-02,  1.2155e-02,  ...,  1.6097e-03,\n",
       "          -1.7112e-02, -9.3059e-04],\n",
       "         [ 1.7081e-02,  1.7170e-02, -1.7310e-02,  ..., -2.6040e-02,\n",
       "          -3.1613e-02,  3.2561e-02],\n",
       "         ...,\n",
       "         [-3.9053e-03, -6.3254e-03,  7.3507e-03,  ..., -1.0660e-02,\n",
       "          -2.2764e-02, -1.0908e-02],\n",
       "         [-3.9053e-03, -6.3254e-03,  7.3507e-03,  ..., -1.0660e-02,\n",
       "          -2.2764e-02, -1.0908e-02],\n",
       "         [-3.9053e-03, -6.3254e-03,  7.3507e-03,  ..., -1.0660e-02,\n",
       "          -2.2764e-02, -1.0908e-02]],\n",
       "\n",
       "        [[-1.6741e-03,  7.3048e-05, -4.1996e-03,  ..., -3.4096e-03,\n",
       "          -3.9295e-03, -5.5289e-05],\n",
       "         [-3.0934e-02,  2.5159e-02, -1.7367e-02,  ..., -2.5947e-02,\n",
       "           1.3006e-03, -2.7129e-02],\n",
       "         [-1.5337e-02, -9.7347e-04, -2.8690e-02,  ...,  4.8178e-03,\n",
       "           1.2940e-02, -1.2926e-02],\n",
       "         ...,\n",
       "         [-3.9053e-03, -6.3254e-03,  7.3507e-03,  ..., -1.0660e-02,\n",
       "          -2.2764e-02, -1.0908e-02],\n",
       "         [-3.9053e-03, -6.3254e-03,  7.3507e-03,  ..., -1.0660e-02,\n",
       "          -2.2764e-02, -1.0908e-02],\n",
       "         [-3.9053e-03, -6.3254e-03,  7.3507e-03,  ..., -1.0660e-02,\n",
       "          -2.2764e-02, -1.0908e-02]],\n",
       "\n",
       "        ...,\n",
       "\n",
       "        [[-1.6741e-03,  7.3048e-05, -4.1996e-03,  ..., -3.4096e-03,\n",
       "          -3.9295e-03, -5.5289e-05],\n",
       "         [-3.6884e-03,  4.0364e-03,  4.2877e-02,  ..., -1.0410e-02,\n",
       "           3.3601e-03,  1.3574e-02],\n",
       "         [-2.7568e-02,  1.1099e-02,  2.4241e-03,  ..., -4.1616e-02,\n",
       "          -4.8576e-03,  8.5011e-03],\n",
       "         ...,\n",
       "         [-3.9053e-03, -6.3254e-03,  7.3507e-03,  ..., -1.0660e-02,\n",
       "          -2.2764e-02, -1.0908e-02],\n",
       "         [-3.9053e-03, -6.3254e-03,  7.3507e-03,  ..., -1.0660e-02,\n",
       "          -2.2764e-02, -1.0908e-02],\n",
       "         [-3.9053e-03, -6.3254e-03,  7.3507e-03,  ..., -1.0660e-02,\n",
       "          -2.2764e-02, -1.0908e-02]],\n",
       "\n",
       "        [[-1.6741e-03,  7.3048e-05, -4.1996e-03,  ..., -3.4096e-03,\n",
       "          -3.9295e-03, -5.5289e-05],\n",
       "         [-1.1954e-02, -5.4842e-02, -1.4377e-03,  ..., -2.9597e-02,\n",
       "           1.3155e-02, -4.1597e-02],\n",
       "         [ 1.8440e-02, -1.2677e-02,  3.1240e-02,  ..., -3.4266e-02,\n",
       "          -1.5868e-02, -1.3922e-02],\n",
       "         ...,\n",
       "         [-3.9053e-03, -6.3254e-03,  7.3507e-03,  ..., -1.0660e-02,\n",
       "          -2.2764e-02, -1.0908e-02],\n",
       "         [-3.9053e-03, -6.3254e-03,  7.3507e-03,  ..., -1.0660e-02,\n",
       "          -2.2764e-02, -1.0908e-02],\n",
       "         [-3.9053e-03, -6.3254e-03,  7.3507e-03,  ..., -1.0660e-02,\n",
       "          -2.2764e-02, -1.0908e-02]],\n",
       "\n",
       "        [[-1.6741e-03,  7.3048e-05, -4.1996e-03,  ..., -3.4096e-03,\n",
       "          -3.9295e-03, -5.5289e-05],\n",
       "         [ 1.6126e-02, -1.5906e-02, -1.3147e-02,  ..., -9.6632e-03,\n",
       "          -1.7005e-02, -1.2271e-02],\n",
       "         [-1.4697e-02, -1.1551e-02,  6.0794e-03,  ..., -1.7708e-02,\n",
       "           3.3478e-05, -9.0965e-03],\n",
       "         ...,\n",
       "         [-3.9053e-03, -6.3254e-03,  7.3507e-03,  ..., -1.0660e-02,\n",
       "          -2.2764e-02, -1.0908e-02],\n",
       "         [-3.9053e-03, -6.3254e-03,  7.3507e-03,  ..., -1.0660e-02,\n",
       "          -2.2764e-02, -1.0908e-02],\n",
       "         [-3.9053e-03, -6.3254e-03,  7.3507e-03,  ..., -1.0660e-02,\n",
       "          -2.2764e-02, -1.0908e-02]]], grad_fn=<SelectBackward0>)"
      ]
     },
     "execution_count": 11,
     "metadata": {},
     "output_type": "execute_result"
    }
   ],
   "source": [
    "prompts_2 = model.prompt_learner()"
   ]
  },
  {
   "cell_type": "code",
   "execution_count": null,
   "id": "d2c5a9a5",
   "metadata": {},
   "outputs": [],
   "source": []
  },
  {
   "cell_type": "code",
   "execution_count": 32,
   "id": "30e9412f",
   "metadata": {},
   "outputs": [
    {
     "data": {
      "text/plain": [
       "torch.Size([10, 1, 512])"
      ]
     },
     "execution_count": 32,
     "metadata": {},
     "output_type": "execute_result"
    }
   ],
   "source": [
    "import torch\n",
    "x = torch.rand((10, 1, 512))\n",
    "x.shape"
   ]
  },
  {
   "cell_type": "code",
   "execution_count": 33,
   "id": "8e7236af",
   "metadata": {},
   "outputs": [
    {
     "data": {
      "text/plain": [
       "torch.Size([3, 10, 1, 512])"
      ]
     },
     "execution_count": 33,
     "metadata": {},
     "output_type": "execute_result"
    }
   ],
   "source": [
    "x = x.expand(3,10,-1,-1)\n",
    "x.shape"
   ]
  },
  {
   "cell_type": "code",
   "execution_count": 34,
   "id": "0ff65fa8",
   "metadata": {},
   "outputs": [
    {
     "data": {
      "text/plain": [
       "3"
      ]
     },
     "execution_count": 34,
     "metadata": {},
     "output_type": "execute_result"
    }
   ],
   "source": [
    "len(x)"
   ]
  },
  {
   "cell_type": "code",
   "execution_count": 61,
   "id": "8c5c98e0",
   "metadata": {},
   "outputs": [],
   "source": [
    "x = torch.rand(50,10)"
   ]
  },
  {
   "cell_type": "code",
   "execution_count": 62,
   "id": "add80048",
   "metadata": {},
   "outputs": [],
   "source": [
    "x = (8 *x).expand(3,-1,-1)"
   ]
  },
  {
   "cell_type": "code",
   "execution_count": 63,
   "id": "72a607ca",
   "metadata": {},
   "outputs": [
    {
     "data": {
      "text/plain": [
       "torch.Size([50, 10])"
      ]
     },
     "execution_count": 63,
     "metadata": {},
     "output_type": "execute_result"
    }
   ],
   "source": [
    "x.mean(dim = 0) .shape"
   ]
  },
  {
   "cell_type": "code",
   "execution_count": 79,
   "id": "f98b3b0e",
   "metadata": {},
   "outputs": [],
   "source": [
    "y = model.text_encoder(prompt[0].cuda(),model.tokenized_prompts)"
   ]
  },
  {
   "cell_type": "code",
   "execution_count": 95,
   "id": "22a5ad0d",
   "metadata": {},
   "outputs": [],
   "source": [
    "ys = y.expand(1,-1,-1)\n",
    "for i in range(2):\n",
    "    k = y.expand(1,-1,-1)\n",
    "    ys = torch.cat((ys,k),dim = 0)"
   ]
  },
  {
   "cell_type": "code",
   "execution_count": 96,
   "id": "bc0a0987",
   "metadata": {},
   "outputs": [],
   "source": [
    "many_centorids = torch.rand((3,10,512))"
   ]
  },
  {
   "cell_type": "code",
   "execution_count": 10,
   "id": "a0c9a685",
   "metadata": {},
   "outputs": [],
   "source": [
    "cos = nn.CosineSimilarity(dim=1, eps=1e-6)"
   ]
  },
  {
   "cell_type": "code",
   "execution_count": 101,
   "id": "37431ddc",
   "metadata": {},
   "outputs": [
    {
     "data": {
      "text/plain": [
       "tensor([0.7563, 0.7677, 0.7644, 0.7373, 0.7566, 0.7406, 0.7490, 0.7291, 0.7556,\n",
       "        0.7582])"
      ]
     },
     "execution_count": 101,
     "metadata": {},
     "output_type": "execute_result"
    }
   ],
   "source": [
    "cos(many_centorids[0],many_centorids[1])"
   ]
  },
  {
   "cell_type": "code",
   "execution_count": 11,
   "id": "c0f5aa9e",
   "metadata": {},
   "outputs": [
    {
     "data": {
      "text/plain": [
       "[(0, 1), (0, 2), (1, 2)]"
      ]
     },
     "execution_count": 11,
     "metadata": {},
     "output_type": "execute_result"
    }
   ],
   "source": [
    "from itertools import combinations\n",
    "items = [0,1,2]        \n",
    "list(combinations(items, 2))"
   ]
  },
  {
   "cell_type": "code",
   "execution_count": 16,
   "id": "dda89ed4",
   "metadata": {},
   "outputs": [],
   "source": [
    "many_centorids = torch.tensor([[[1.,1.]],[[1.,0.]]])"
   ]
  },
  {
   "cell_type": "code",
   "execution_count": 17,
   "id": "58eb1d2b",
   "metadata": {},
   "outputs": [
    {
     "name": "stdout",
     "output_type": "stream",
     "text": [
      "[0, 1]\n"
     ]
    },
    {
     "ename": "IndexError",
     "evalue": "list index out of range",
     "output_type": "error",
     "traceback": [
      "\u001b[0;31m---------------------------------------------------------------------------\u001b[0m",
      "\u001b[0;31mIndexError\u001b[0m                                Traceback (most recent call last)",
      "\u001b[0;32m<ipython-input-17-08e67b54b476>\u001b[0m in \u001b[0;36m<module>\u001b[0;34m\u001b[0m\n\u001b[1;32m      8\u001b[0m         \u001b[0msimilarity\u001b[0m \u001b[0;34m+=\u001b[0m \u001b[0mcos\u001b[0m\u001b[0;34m(\u001b[0m\u001b[0mmany_centorids\u001b[0m\u001b[0;34m[\u001b[0m\u001b[0ma\u001b[0m\u001b[0;34m]\u001b[0m\u001b[0;34m,\u001b[0m\u001b[0mmany_centorids\u001b[0m\u001b[0;34m[\u001b[0m\u001b[0mb\u001b[0m\u001b[0;34m]\u001b[0m\u001b[0;34m)\u001b[0m\u001b[0;34m\u001b[0m\u001b[0;34m\u001b[0m\u001b[0m\n\u001b[1;32m      9\u001b[0m     \u001b[0;32mreturn\u001b[0m \u001b[0msimilarity\u001b[0m\u001b[0;34m/\u001b[0m\u001b[0mlen\u001b[0m\u001b[0;34m(\u001b[0m\u001b[0mitems\u001b[0m\u001b[0;34m)\u001b[0m\u001b[0;34m\u001b[0m\u001b[0;34m\u001b[0m\u001b[0m\n\u001b[0;32m---> 10\u001b[0;31m \u001b[0mcos_sim\u001b[0m \u001b[0;34m=\u001b[0m \u001b[0mcos_distance_mean\u001b[0m\u001b[0;34m(\u001b[0m\u001b[0mmany_centorids\u001b[0m\u001b[0;34m)\u001b[0m\u001b[0;34m\u001b[0m\u001b[0;34m\u001b[0m\u001b[0m\n\u001b[0m\u001b[1;32m     11\u001b[0m \u001b[0mprint\u001b[0m\u001b[0;34m(\u001b[0m\u001b[0mcos_sim\u001b[0m\u001b[0;34m)\u001b[0m\u001b[0;34m\u001b[0m\u001b[0;34m\u001b[0m\u001b[0m\n",
      "\u001b[0;32m<ipython-input-17-08e67b54b476>\u001b[0m in \u001b[0;36mcos_distance_mean\u001b[0;34m(many_centorids)\u001b[0m\n\u001b[1;32m      5\u001b[0m     \u001b[0mcombi_list\u001b[0m \u001b[0;34m=\u001b[0m \u001b[0mlist\u001b[0m\u001b[0;34m(\u001b[0m\u001b[0mcombinations\u001b[0m\u001b[0;34m(\u001b[0m\u001b[0mitems\u001b[0m\u001b[0;34m,\u001b[0m \u001b[0;36m2\u001b[0m\u001b[0;34m)\u001b[0m\u001b[0;34m)\u001b[0m\u001b[0;34m\u001b[0m\u001b[0;34m\u001b[0m\u001b[0m\n\u001b[1;32m      6\u001b[0m     \u001b[0;32mfor\u001b[0m \u001b[0mi\u001b[0m \u001b[0;32min\u001b[0m \u001b[0mitems\u001b[0m\u001b[0;34m:\u001b[0m\u001b[0;34m\u001b[0m\u001b[0;34m\u001b[0m\u001b[0m\n\u001b[0;32m----> 7\u001b[0;31m         \u001b[0ma\u001b[0m\u001b[0;34m,\u001b[0m\u001b[0mb\u001b[0m \u001b[0;34m=\u001b[0m \u001b[0mcombi_list\u001b[0m\u001b[0;34m[\u001b[0m\u001b[0mi\u001b[0m\u001b[0;34m]\u001b[0m\u001b[0;34m\u001b[0m\u001b[0;34m\u001b[0m\u001b[0m\n\u001b[0m\u001b[1;32m      8\u001b[0m         \u001b[0msimilarity\u001b[0m \u001b[0;34m+=\u001b[0m \u001b[0mcos\u001b[0m\u001b[0;34m(\u001b[0m\u001b[0mmany_centorids\u001b[0m\u001b[0;34m[\u001b[0m\u001b[0ma\u001b[0m\u001b[0;34m]\u001b[0m\u001b[0;34m,\u001b[0m\u001b[0mmany_centorids\u001b[0m\u001b[0;34m[\u001b[0m\u001b[0mb\u001b[0m\u001b[0;34m]\u001b[0m\u001b[0;34m)\u001b[0m\u001b[0;34m\u001b[0m\u001b[0;34m\u001b[0m\u001b[0m\n\u001b[1;32m      9\u001b[0m     \u001b[0;32mreturn\u001b[0m \u001b[0msimilarity\u001b[0m\u001b[0;34m/\u001b[0m\u001b[0mlen\u001b[0m\u001b[0;34m(\u001b[0m\u001b[0mitems\u001b[0m\u001b[0;34m)\u001b[0m\u001b[0;34m\u001b[0m\u001b[0;34m\u001b[0m\u001b[0m\n",
      "\u001b[0;31mIndexError\u001b[0m: list index out of range"
     ]
    }
   ],
   "source": [
    "def cos_distance_mean(many_centorids):\n",
    "    similarity = 0\n",
    "    items = [i for i in range(len(many_centorids))]\n",
    "    print(items)\n",
    "    combi_list = list(combinations(items, 2))\n",
    "    for i in items:\n",
    "        a,b = combi_list[i]\n",
    "        similarity += cos(many_centorids[a],many_centorids[b])\n",
    "    return similarity/len(items)\n",
    "cos_sim = cos_distance_mean(many_centorids)\n",
    "print(cos_sim)"
   ]
  },
  {
   "cell_type": "code",
   "execution_count": 126,
   "id": "185ca896",
   "metadata": {},
   "outputs": [],
   "source": [
    "maximum_similarity = 0.9 * torch.ones(10).cuda()"
   ]
  },
  {
   "cell_type": "code",
   "execution_count": 130,
   "id": "31e9c17e",
   "metadata": {},
   "outputs": [
    {
     "data": {
      "text/plain": [
       "0.8999999761581421"
      ]
     },
     "execution_count": 130,
     "metadata": {},
     "output_type": "execute_result"
    }
   ],
   "source": [
    "maximum_similarity[0].item()"
   ]
  },
  {
   "cell_type": "code",
   "execution_count": 140,
   "id": "93342179",
   "metadata": {},
   "outputs": [
    {
     "data": {
      "text/plain": [
       "tensor(0.0900)"
      ]
     },
     "execution_count": 140,
     "metadata": {},
     "output_type": "execute_result"
    }
   ],
   "source": [
    "torch.nn.MSELoss()(torch.tensor([0.2,0.4]),torch.tensor([0.5,0.1]))"
   ]
  },
  {
   "cell_type": "code",
   "execution_count": 134,
   "id": "d87c3b01",
   "metadata": {},
   "outputs": [
    {
     "data": {
      "text/plain": [
       "tensor([0.9000, 0.9000, 0.9000, 0.9000, 0.9000, 0.9000, 0.9000, 0.9000, 0.9000,\n",
       "        0.9000], device='cuda:0')"
      ]
     },
     "execution_count": 134,
     "metadata": {},
     "output_type": "execute_result"
    }
   ],
   "source": [
    "maximum_similarity"
   ]
  },
  {
   "cell_type": "code",
   "execution_count": null,
   "id": "1b93474c",
   "metadata": {},
   "outputs": [],
   "source": []
  }
 ],
 "metadata": {
  "kernelspec": {
   "display_name": "Python 3",
   "language": "python",
   "name": "python3"
  },
  "language_info": {
   "codemirror_mode": {
    "name": "ipython",
    "version": 3
   },
   "file_extension": ".py",
   "mimetype": "text/x-python",
   "name": "python",
   "nbconvert_exporter": "python",
   "pygments_lexer": "ipython3",
   "version": "3.6.15"
  }
 },
 "nbformat": 4,
 "nbformat_minor": 5
}
