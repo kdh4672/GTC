{
 "cells": [
  {
   "cell_type": "code",
   "execution_count": 24,
   "id": "18f321e8",
   "metadata": {},
   "outputs": [
    {
     "name": "stdout",
     "output_type": "stream",
     "text": [
      "Files already downloaded and verified\n",
      "Files already downloaded and verified\n"
     ]
    }
   ],
   "source": [
    "import os\n",
    "import torchvision\n",
    "import torch\n",
    "import numpy as np\n",
    "train_dataset = torchvision.datasets.CIFAR10(root='./data', train=True,\n",
    "                                                        download=True, transform=None)\n",
    "train_npy = train_dataset.data\n",
    "\n",
    "test_dataset = torchvision.datasets.CIFAR10(root='./data', train=False,\n",
    "                                                        download=True, transform=None)\n",
    "test_npy = test_dataset.data"
   ]
  },
  {
   "cell_type": "code",
   "execution_count": 25,
   "id": "44729732",
   "metadata": {},
   "outputs": [
    {
     "name": "stdout",
     "output_type": "stream",
     "text": [
      "(50000, 32, 32, 3)\n",
      "(10000, 32, 32, 3)\n",
      "(60000, 32, 32, 3)\n"
     ]
    }
   ],
   "source": [
    "print(train_npy.shape)\n",
    "print(test_npy.shape)\n",
    "full_npy = np.concatenate((train_npy, test_npy), axis=0)\n",
    "print(full_npy.shape)"
   ]
  },
  {
   "cell_type": "code",
   "execution_count": 26,
   "id": "052185a4",
   "metadata": {},
   "outputs": [],
   "source": [
    "import random\n",
    " \n",
    "index_list = random.sample(range(0,59999),10000) # 1부터 100까지의 범위중에 10000개\n",
    "index_list"
   ]
  },
  {
   "cell_type": "code",
   "execution_count": null,
   "id": "93d83c44",
   "metadata": {},
   "outputs": [],
   "source": []
  }
 ],
 "metadata": {
  "kernelspec": {
   "display_name": "Python 3",
   "language": "python",
   "name": "python3"
  },
  "language_info": {
   "codemirror_mode": {
    "name": "ipython",
    "version": 3
   },
   "file_extension": ".py",
   "mimetype": "text/x-python",
   "name": "python",
   "nbconvert_exporter": "python",
   "pygments_lexer": "ipython3",
   "version": "3.6.15"
  }
 },
 "nbformat": 4,
 "nbformat_minor": 5
}
