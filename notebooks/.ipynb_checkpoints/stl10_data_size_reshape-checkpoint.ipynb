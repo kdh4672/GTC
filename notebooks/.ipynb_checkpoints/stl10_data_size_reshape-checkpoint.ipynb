{
 "cells": [
  {
   "cell_type": "code",
   "execution_count": 31,
   "id": "493bf0b4",
   "metadata": {},
   "outputs": [
    {
     "name": "stdout",
     "output_type": "stream",
     "text": [
      "Files already downloaded and verified\n",
      "Files already downloaded and verified\n"
     ]
    }
   ],
   "source": [
    "import os\n",
    "import torchvision\n",
    "import torch\n",
    "import numpy as np\n",
    "import random\n",
    "train_dataset = torchvision.datasets.STL10(root='./data', split='train',\n",
    "                                                       download=True, transform=None)\n",
    "\n",
    "train_npy = train_dataset.data\n",
    "train_label = train_dataset.targets\n",
    "\n",
    "test_dataset = torchvision.datasets.STL10(root='./data', split='test',\n",
    "                                                       download=True, transform=None)\n",
    "test_npy = test_dataset.data\n",
    "test_label = test_dataset.targets"
   ]
  },
  {
   "cell_type": "code",
   "execution_count": 32,
   "id": "cd342da9",
   "metadata": {},
   "outputs": [
    {
     "name": "stdout",
     "output_type": "stream",
     "text": [
      "(50000, 32, 32, 3)\n",
      "(10000, 32, 32, 3)\n",
      "(60000, 32, 32, 3)\n",
      "60000\n"
     ]
    }
   ],
   "source": [
    "print(train_npy.shape)\n",
    "print(test_npy.shape)\n",
    "full_npy = np.concatenate((train_npy, test_npy), axis=0)\n",
    "print(full_npy.shape)\n",
    "full_label = train_label + test_label\n",
    "print(len(full_label))"
   ]
  },
  {
   "cell_type": "code",
   "execution_count": 45,
   "id": "c59cb8e7",
   "metadata": {},
   "outputs": [
    {
     "name": "stdout",
     "output_type": "stream",
     "text": [
      "[43196, 4787, 57658, 15827, 7216, 22401, 51441, 38135, 15105, 4647]\n"
     ]
    }
   ],
   "source": [
    "index_list = random.sample(range(0,59999),2500) # 1부터 100까지의 범위중에 10000개\n",
    "print(index_list[:10])"
   ]
  },
  {
   "cell_type": "code",
   "execution_count": 46,
   "id": "e41ce370",
   "metadata": {},
   "outputs": [],
   "source": [
    "new_npy = full_npy[index_list]\n",
    "new_label = np.array(full_label)[index_list]"
   ]
  },
  {
   "cell_type": "code",
   "execution_count": 47,
   "id": "3d41af4a",
   "metadata": {},
   "outputs": [
    {
     "name": "stdout",
     "output_type": "stream",
     "text": [
      "(2500, 32, 32, 3)\n",
      "2500\n"
     ]
    }
   ],
   "source": [
    "print(new_npy.shape)\n",
    "print(len(new_label))"
   ]
  },
  {
   "cell_type": "code",
   "execution_count": 48,
   "id": "4633ac13",
   "metadata": {},
   "outputs": [],
   "source": [
    "np.save('../data/cifar10_2500/data.npy', new_npy)\n",
    "np.save('../data/cifar10_2500/label.npy', new_label)"
   ]
  },
  {
   "cell_type": "code",
   "execution_count": null,
   "id": "40a57f4a",
   "metadata": {},
   "outputs": [],
   "source": []
  }
 ],
 "metadata": {
  "kernelspec": {
   "display_name": "Python 3",
   "language": "python",
   "name": "python3"
  },
  "language_info": {
   "codemirror_mode": {
    "name": "ipython",
    "version": 3
   },
   "file_extension": ".py",
   "mimetype": "text/x-python",
   "name": "python",
   "nbconvert_exporter": "python",
   "pygments_lexer": "ipython3",
   "version": "3.6.15"
  }
 },
 "nbformat": 4,
 "nbformat_minor": 5
}
