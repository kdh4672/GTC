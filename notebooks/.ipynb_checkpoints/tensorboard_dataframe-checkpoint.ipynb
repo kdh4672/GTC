{
 "cells": [
  {
   "cell_type": "code",
   "execution_count": 1,
   "id": "575dc4f0",
   "metadata": {},
   "outputs": [],
   "source": [
    "from packaging import version\n",
    "\n",
    "import pandas as pd\n",
    "from matplotlib import pyplot as plt\n",
    "import seaborn as sns\n",
    "from scipy import stats\n",
    "import tensorboard as tb"
   ]
  },
  {
   "cell_type": "code",
   "execution_count": 2,
   "id": "1148cde1",
   "metadata": {},
   "outputs": [
    {
     "name": "stdout",
     "output_type": "stream",
     "text": [
      "TensorBoard version:  2.9.0\n"
     ]
    }
   ],
   "source": [
    "major_ver, minor_ver, _ = version.parse(tb.__version__).release\n",
    "assert major_ver >= 2 and minor_ver >= 3, \\\n",
    "    \"This notebook requires TensorBoard 2.3 or later.\"\n",
    "print(\"TensorBoard version: \", tb.__version__)"
   ]
  },
  {
   "cell_type": "code",
   "execution_count": 3,
   "id": "79d7413e",
   "metadata": {},
   "outputs": [
    {
     "name": "stdout",
     "output_type": "stream",
     "text": [
      "{'images': [], 'audio': [], 'histograms': [], 'scalars': ['Learning_rate', 'train_Loss', 'train_accuracy', 'centroids_similarity', 'val_acc', 'val_nmi', 'val_ari'], 'distributions': [], 'tensors': [], 'graph': False, 'meta_graph': False, 'run_metadata': []}\n"
     ]
    }
   ],
   "source": [
    "from tensorboard.backend.event_processing.event_accumulator import EventAccumulator\n",
    "st = EventAccumulator(\"../log/stanford40_1cent_cos_vit_b16_adam_b256_lr_3e-4_4repeat/\")\n",
    "st.Reload()\n",
    "print(st.Tags())\n",
    "st_acc = pd.DataFrame(st.Scalars('val_acc'))\n",
    "filepath = '../log/csv/stanford40_1cent_cos_vit_b16.csv'\n",
    "st_acc.to_csv(filepath)"
   ]
  },
  {
   "cell_type": "code",
   "execution_count": 4,
   "id": "534a162c",
   "metadata": {},
   "outputs": [
    {
     "name": "stdout",
     "output_type": "stream",
     "text": [
      "{'images': [], 'audio': [], 'histograms': [], 'scalars': ['Learning_rate', 'train_Loss', 'train_accuracy', 'centroids_similarity', 'val_acc', 'val_nmi'], 'distributions': [], 'tensors': [], 'graph': False, 'meta_graph': False, 'run_metadata': []}\n"
     ]
    }
   ],
   "source": [
    "mit = EventAccumulator(\"../text_guided_record3/stanford40_5cent_vit_b16_adam_b256_lr_3e-4_4repeat/events.out.tfevents.1654224016.vdsl.17742.0\")\n",
    "mit.Reload()\n",
    "print(mit.Tags())\n",
    "mit_acc = pd.DataFrame(mit.Scalars('val_acc'))\n",
    "filepath = '../log/csv/mit_1cent_cos_vit_b16.csv'\n",
    "mit_acc.to_csv(filepath)"
   ]
  },
  {
   "cell_type": "code",
   "execution_count": 6,
   "id": "cf71801a",
   "metadata": {},
   "outputs": [],
   "source": [
    "mit_acc = mit_acc[:300]"
   ]
  },
  {
   "cell_type": "code",
   "execution_count": 5,
   "id": "de338b83",
   "metadata": {},
   "outputs": [
    {
     "data": {
      "text/html": [
       "<div>\n",
       "<style scoped>\n",
       "    .dataframe tbody tr th:only-of-type {\n",
       "        vertical-align: middle;\n",
       "    }\n",
       "\n",
       "    .dataframe tbody tr th {\n",
       "        vertical-align: top;\n",
       "    }\n",
       "\n",
       "    .dataframe thead th {\n",
       "        text-align: right;\n",
       "    }\n",
       "</style>\n",
       "<table border=\"1\" class=\"dataframe\">\n",
       "  <thead>\n",
       "    <tr style=\"text-align: right;\">\n",
       "      <th></th>\n",
       "      <th>wall_time</th>\n",
       "      <th>step</th>\n",
       "      <th>value</th>\n",
       "    </tr>\n",
       "  </thead>\n",
       "  <tbody>\n",
       "    <tr>\n",
       "      <th>0</th>\n",
       "      <td>1.655646e+09</td>\n",
       "      <td>3</td>\n",
       "      <td>0.558225</td>\n",
       "    </tr>\n",
       "    <tr>\n",
       "      <th>1</th>\n",
       "      <td>1.655647e+09</td>\n",
       "      <td>7</td>\n",
       "      <td>0.556651</td>\n",
       "    </tr>\n",
       "    <tr>\n",
       "      <th>2</th>\n",
       "      <td>1.655647e+09</td>\n",
       "      <td>11</td>\n",
       "      <td>0.559589</td>\n",
       "    </tr>\n",
       "    <tr>\n",
       "      <th>3</th>\n",
       "      <td>1.655648e+09</td>\n",
       "      <td>15</td>\n",
       "      <td>0.560323</td>\n",
       "    </tr>\n",
       "    <tr>\n",
       "      <th>4</th>\n",
       "      <td>1.655649e+09</td>\n",
       "      <td>19</td>\n",
       "      <td>0.569660</td>\n",
       "    </tr>\n",
       "    <tr>\n",
       "      <th>...</th>\n",
       "      <td>...</td>\n",
       "      <td>...</td>\n",
       "      <td>...</td>\n",
       "    </tr>\n",
       "    <tr>\n",
       "      <th>295</th>\n",
       "      <td>1.655783e+09</td>\n",
       "      <td>1183</td>\n",
       "      <td>0.670478</td>\n",
       "    </tr>\n",
       "    <tr>\n",
       "      <th>296</th>\n",
       "      <td>1.655784e+09</td>\n",
       "      <td>1187</td>\n",
       "      <td>0.673101</td>\n",
       "    </tr>\n",
       "    <tr>\n",
       "      <th>297</th>\n",
       "      <td>1.655784e+09</td>\n",
       "      <td>1191</td>\n",
       "      <td>0.673731</td>\n",
       "    </tr>\n",
       "    <tr>\n",
       "      <th>298</th>\n",
       "      <td>1.655784e+09</td>\n",
       "      <td>1195</td>\n",
       "      <td>0.674780</td>\n",
       "    </tr>\n",
       "    <tr>\n",
       "      <th>299</th>\n",
       "      <td>1.655785e+09</td>\n",
       "      <td>1199</td>\n",
       "      <td>0.674255</td>\n",
       "    </tr>\n",
       "  </tbody>\n",
       "</table>\n",
       "<p>300 rows × 3 columns</p>\n",
       "</div>"
      ],
      "text/plain": [
       "        wall_time  step     value\n",
       "0    1.655646e+09     3  0.558225\n",
       "1    1.655647e+09     7  0.556651\n",
       "2    1.655647e+09    11  0.559589\n",
       "3    1.655648e+09    15  0.560323\n",
       "4    1.655649e+09    19  0.569660\n",
       "..            ...   ...       ...\n",
       "295  1.655783e+09  1183  0.670478\n",
       "296  1.655784e+09  1187  0.673101\n",
       "297  1.655784e+09  1191  0.673731\n",
       "298  1.655784e+09  1195  0.674780\n",
       "299  1.655785e+09  1199  0.674255\n",
       "\n",
       "[300 rows x 3 columns]"
      ]
     },
     "execution_count": 5,
     "metadata": {},
     "output_type": "execute_result"
    }
   ],
   "source": [
    "st_acc = st_acc[:300]\n",
    "st_acc"
   ]
  },
  {
   "cell_type": "code",
   "execution_count": 122,
   "id": "a8ca3138",
   "metadata": {},
   "outputs": [
    {
     "data": {
      "image/png": "[encoded data removed]",
      "text/plain": [
       "<Figure size 1152x432 with 1 Axes>"
      ]
     },
     "metadata": {
      "needs_background": "light"
     },
     "output_type": "display_data"
    },
    {
     "data": {
      "image/png": "[encoded data removed]",
      "text/plain": [
       "<Figure size 144x72 with 1 Axes>"
      ]
     },
     "metadata": {
      "needs_background": "light"
     },
     "output_type": "display_data"
    }
   ],
   "source": [
    "import seaborn as sns\n",
    "palette1 = sns.color_palette('bright',1)\n",
    "palette2 = sns.color_palette('bright',2)\n",
    "total_df = pd.DataFrame()\n",
    "plt.figure(figsize=(16, 6))\n",
    "# sns.lineplot(data=mit_acc, x=\"step\", y=\"value\")\n",
    "sns.lineplot(data=st_acc, x=\"step\", y=\"value\",color='#FA4500').set_title(\"Stanford40\")\n",
    "sns.palplot(palette)"
   ]
  },
  {
   "cell_type": "code",
   "execution_count": 115,
   "id": "796b0c97",
   "metadata": {},
   "outputs": [
    {
     "data": {
      "image/png": "[encoded data removed]",
      "text/plain": [
       "<Figure size 1152x432 with 1 Axes>"
      ]
     },
     "metadata": {
      "needs_background": "light"
     },
     "output_type": "display_data"
    }
   ],
   "source": [
    "import seaborn as sns\n",
    "total_df = pd.DataFrame({'Epoch':mit_acc['step'], '1 centroids': mit_acc['value'], '10 centroids': st_acc['value']})\n",
    "plt.figure(figsize=(16, 6))\n",
    "df = total_df.melt('Epoch', var_name='number of centroids',  value_name='vals')\n",
    "g = sns.lineplot(x=\"Epoch\",y='vals',hue='number of centroids',data=df,palette=palette2)"
   ]
  },
  {
   "cell_type": "code",
   "execution_count": 114,
   "id": "d6c6c355",
   "metadata": {},
   "outputs": [
    {
     "data": {
      "text/html": [
       "<div>\n",
       "<style scoped>\n",
       "    .dataframe tbody tr th:only-of-type {\n",
       "        vertical-align: middle;\n",
       "    }\n",
       "\n",
       "    .dataframe tbody tr th {\n",
       "        vertical-align: top;\n",
       "    }\n",
       "\n",
       "    .dataframe thead th {\n",
       "        text-align: right;\n",
       "    }\n",
       "</style>\n",
       "<table border=\"1\" class=\"dataframe\">\n",
       "  <thead>\n",
       "    <tr style=\"text-align: right;\">\n",
       "      <th></th>\n",
       "      <th>wall_time</th>\n",
       "      <th>step</th>\n",
       "      <th>value</th>\n",
       "    </tr>\n",
       "  </thead>\n",
       "  <tbody>\n",
       "    <tr>\n",
       "      <th>0</th>\n",
       "      <td>1.654224e+09</td>\n",
       "      <td>3</td>\n",
       "      <td>0.552560</td>\n",
       "    </tr>\n",
       "    <tr>\n",
       "      <th>1</th>\n",
       "      <td>1.654225e+09</td>\n",
       "      <td>7</td>\n",
       "      <td>0.552770</td>\n",
       "    </tr>\n",
       "    <tr>\n",
       "      <th>2</th>\n",
       "      <td>1.654225e+09</td>\n",
       "      <td>11</td>\n",
       "      <td>0.553189</td>\n",
       "    </tr>\n",
       "    <tr>\n",
       "      <th>3</th>\n",
       "      <td>1.654226e+09</td>\n",
       "      <td>15</td>\n",
       "      <td>0.552140</td>\n",
       "    </tr>\n",
       "    <tr>\n",
       "      <th>4</th>\n",
       "      <td>1.654226e+09</td>\n",
       "      <td>19</td>\n",
       "      <td>0.553084</td>\n",
       "    </tr>\n",
       "  </tbody>\n",
       "</table>\n",
       "</div>"
      ],
      "text/plain": [
       "      wall_time  step     value\n",
       "0  1.654224e+09     3  0.552560\n",
       "1  1.654225e+09     7  0.552770\n",
       "2  1.654225e+09    11  0.553189\n",
       "3  1.654226e+09    15  0.552140\n",
       "4  1.654226e+09    19  0.553084"
      ]
     },
     "execution_count": 114,
     "metadata": {},
     "output_type": "execute_result"
    }
   ],
   "source": [
    "mit_acc.head()"
   ]
  },
  {
   "cell_type": "code",
   "execution_count": 45,
   "id": "14d935b7",
   "metadata": {},
   "outputs": [
    {
     "name": "stdout",
     "output_type": "stream",
     "text": [
      "{'images': [], 'audio': [], 'histograms': [], 'scalars': ['Learning_rate', 'train_Loss', 'train_accuracy', 'centroids_similarity', 'val_acc', 'val_nmi', 'val_ari'], 'distributions': [], 'tensors': [], 'graph': False, 'meta_graph': False, 'run_metadata': []}\n"
     ]
    }
   ],
   "source": [
    "import numpy as np\n",
    "from tensorboard.backend.event_processing.event_accumulator import EventAccumulator\n",
    "st = EventAccumulator(\"../log/stl10_1cent_vit_cos_b16_adam_b256_lr_3e-4_4repeat/\")\n",
    "st.Reload()\n",
    "print(st.Tags())\n",
    "st_nmi = pd.DataFrame(st.Scalars('val_nmi'))\n",
    "st_acc = pd.DataFrame(st.Scalars('val_acc'))\n",
    "st_ari = pd.DataFrame(st.Scalars('val_ari'))\n",
    "st_list = [st_nmi,st_acc,st_ari]\n",
    "# filepath = '../log/csv/stanford40_1cent_cos_vit_b16.csv'\n",
    "# st_acc.to_csv(filepath)"
   ]
  },
  {
   "cell_type": "code",
   "execution_count": 47,
   "id": "ff4260ae",
   "metadata": {},
   "outputs": [
    {
     "name": "stdout",
     "output_type": "stream",
     "text": [
      "nmi\n",
      "mean: 0.9867556166648864\n",
      "std: 0.0012643706572657003\n",
      "---------------------\n",
      "acc\n",
      "mean: 0.9955307686328888\n",
      "std: 0.0005061186526768868\n",
      "---------------------\n",
      "ari\n",
      "mean: 0.9901098728179931\n",
      "std: 0.0011149090338173039\n",
      "---------------------\n"
     ]
    }
   ],
   "source": [
    "metric_order = ['nmi','acc','ari']\n",
    "for i,item in enumerate(st_list):\n",
    "    item_end = item[250:300]\n",
    "    item_np = np.array(item_end['value'])\n",
    "    print(metric_order[i])\n",
    "    print('mean:',np.mean(item_np))\n",
    "    print('std:',np.std(item_np))\n",
    "    print('---------------------')"
   ]
  },
  {
   "cell_type": "code",
   "execution_count": 32,
   "id": "e11f1130",
   "metadata": {},
   "outputs": [],
   "source": [
    "st_np = np.array(st_end['value'])"
   ]
  },
  {
   "cell_type": "code",
   "execution_count": 33,
   "id": "79199b16",
   "metadata": {},
   "outputs": [],
   "source": [
    "mean = np.mean(st_np)\n",
    "std= np.std(st_np)"
   ]
  },
  {
   "cell_type": "code",
   "execution_count": 34,
   "id": "707bccff",
   "metadata": {},
   "outputs": [
    {
     "name": "stdout",
     "output_type": "stream",
     "text": [
      "0.6357312667369842 0.015142035999117384\n"
     ]
    }
   ],
   "source": [
    "print(mean,std)"
   ]
  },
  {
   "cell_type": "code",
   "execution_count": 35,
   "id": "963584dc",
   "metadata": {},
   "outputs": [
    {
     "data": {
      "text/plain": [
       "array([0.6171487 , 0.61405706, 0.61419976, 0.61822754, 0.61809367,\n",
       "       0.62108189, 0.62281817, 0.61831075, 0.61895758, 0.62005877,\n",
       "       0.62361729, 0.61655766, 0.61557323, 0.6210357 , 0.61855203,\n",
       "       0.62402743, 0.6239059 , 0.62271202, 0.6238091 , 0.62805146,\n",
       "       0.6284399 , 0.62783802, 0.6252653 , 0.63364732, 0.63571686,\n",
       "       0.63780606, 0.63991791, 0.64050472, 0.64106882, 0.6404928 ,\n",
       "       0.64447916, 0.64941746, 0.64661562, 0.64620113, 0.64874691,\n",
       "       0.65074313, 0.65017325, 0.64883584, 0.64859676, 0.646752  ,\n",
       "       0.64510542, 0.64847577, 0.64802831, 0.64934039, 0.65429705,\n",
       "       0.65681159, 0.65954882, 0.66228443, 0.66534579, 0.6652711 ])"
      ]
     },
     "execution_count": 35,
     "metadata": {},
     "output_type": "execute_result"
    }
   ],
   "source": [
    "st_np"
   ]
  },
  {
   "cell_type": "code",
   "execution_count": null,
   "id": "25b9f249",
   "metadata": {},
   "outputs": [],
   "source": []
  },
  {
   "cell_type": "code",
   "execution_count": null,
   "id": "07737f87",
   "metadata": {},
   "outputs": [],
   "source": []
  }
 ],
 "metadata": {
  "kernelspec": {
   "display_name": "Python 3",
   "language": "python",
   "name": "python3"
  },
  "language_info": {
   "codemirror_mode": {
    "name": "ipython",
    "version": 3
   },
   "file_extension": ".py",
   "mimetype": "text/x-python",
   "name": "python",
   "nbconvert_exporter": "python",
   "pygments_lexer": "ipython3",
   "version": "3.6.15"
  }
 },
 "nbformat": 4,
 "nbformat_minor": 5
}
