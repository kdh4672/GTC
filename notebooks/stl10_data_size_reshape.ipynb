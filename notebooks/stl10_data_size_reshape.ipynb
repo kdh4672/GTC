{
 "cells": [
  {
   "cell_type": "code",
   "execution_count": 36,
   "id": "493bf0b4",
   "metadata": {},
   "outputs": [
    {
     "name": "stdout",
     "output_type": "stream",
     "text": [
      "Files already downloaded and verified\n",
      "Files already downloaded and verified\n"
     ]
    }
   ],
   "source": [
    "import os\n",
    "import torchvision\n",
    "import torch\n",
    "import numpy as np\n",
    "import random\n",
    "train_dataset = torchvision.datasets.STL10(root='../data', split='train',\n",
    "                                                       download=True, transform=None)\n",
    "\n",
    "train_npy = train_dataset.data\n",
    "\n",
    "train_label = train_dataset.labels\n",
    "\n",
    "test_dataset = torchvision.datasets.STL10(root='../data', split='test',\n",
    "                                                       download=True, transform=None)\n",
    "test_npy = test_dataset.data\n",
    "test_label = test_dataset.labels"
   ]
  },
  {
   "cell_type": "code",
   "execution_count": 37,
   "id": "cd342da9",
   "metadata": {},
   "outputs": [
    {
     "name": "stdout",
     "output_type": "stream",
     "text": [
      "(5000, 3, 96, 96)\n",
      "(8000, 3, 96, 96)\n",
      "(13000, 3, 96, 96)\n",
      "13000\n",
      "(13000, 96, 3, 96)\n",
      "(13000, 96, 96, 3)\n"
     ]
    }
   ],
   "source": [
    "from numpy import moveaxis\n",
    "print(train_npy.shape)\n",
    "print(test_npy.shape)\n",
    "full_npy = np.concatenate((train_npy, test_npy), axis=0)\n",
    "print(full_npy.shape)\n",
    "full_label = np.concatenate((train_label, test_label), axis=0)\n",
    "print(len(full_label))\n",
    "\n",
    "\n",
    "full_npy = moveaxis(full_npy,2,1)\n",
    "print(full_npy.shape)\n",
    "full_npy = moveaxis(full_npy,2,3)\n",
    "print(full_npy.shape)"
   ]
  },
  {
   "cell_type": "code",
   "execution_count": 46,
   "id": "c59cb8e7",
   "metadata": {},
   "outputs": [
    {
     "name": "stdout",
     "output_type": "stream",
     "text": [
      "[660, 11346, 3193, 8423, 3878, 156, 9015, 5743, 1642, 532]\n"
     ]
    }
   ],
   "source": [
    "index_list = random.sample(range(0,13000),10000) # 1부터 100까지의 범위중에 10000개\n",
    "print(index_list[:10])"
   ]
  },
  {
   "cell_type": "code",
   "execution_count": 47,
   "id": "e41ce370",
   "metadata": {},
   "outputs": [],
   "source": [
    "new_npy = full_npy[index_list]\n",
    "new_label = np.array(full_label)[index_list]"
   ]
  },
  {
   "cell_type": "code",
   "execution_count": 48,
   "id": "3d41af4a",
   "metadata": {},
   "outputs": [
    {
     "name": "stdout",
     "output_type": "stream",
     "text": [
      "(10000, 96, 96, 3)\n",
      "10000\n"
     ]
    }
   ],
   "source": [
    "print(new_npy.shape)\n",
    "print(len(new_label))"
   ]
  },
  {
   "cell_type": "code",
   "execution_count": 49,
   "id": "4633ac13",
   "metadata": {},
   "outputs": [],
   "source": [
    "np.save('../data/stl10_10000/data.npy', new_npy)\n",
    "np.save('../data/stl10_10000/label.npy', new_label)"
   ]
  },
  {
   "cell_type": "code",
   "execution_count": null,
   "id": "40a57f4a",
   "metadata": {},
   "outputs": [],
   "source": []
  }
 ],
 "metadata": {
  "kernelspec": {
   "display_name": "Python 3",
   "language": "python",
   "name": "python3"
  },
  "language_info": {
   "codemirror_mode": {
    "name": "ipython",
    "version": 3
   },
   "file_extension": ".py",
   "mimetype": "text/x-python",
   "name": "python",
   "nbconvert_exporter": "python",
   "pygments_lexer": "ipython3",
   "version": "3.6.15"
  }
 },
 "nbformat": 4,
 "nbformat_minor": 5
}
