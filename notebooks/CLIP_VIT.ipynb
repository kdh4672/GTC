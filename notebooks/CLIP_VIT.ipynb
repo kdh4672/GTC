{
 "cells": [
  {
   "cell_type": "code",
   "execution_count": 8,
   "id": "1bc5c966",
   "metadata": {},
   "outputs": [
    {
     "name": "stderr",
     "output_type": "stream",
     "text": [
      "100%|███████████████████████████████████████| 890M/890M [01:51<00:00, 8.34MiB/s]\n"
     ]
    }
   ],
   "source": [
    "import clip\n",
    "device = 'cuda'\n",
    "model, preprocess = clip.load(\"ViT-L/14\")\n",
    "model = model.to(device)"
   ]
  },
  {
   "cell_type": "code",
   "execution_count": 9,
   "id": "b8b9b370",
   "metadata": {},
   "outputs": [],
   "source": [
    "import torch\n",
    "im = torch.rand((1,3,224,224)).to(device)\n",
    "x = model.encode_image(im)"
   ]
  },
  {
   "cell_type": "code",
   "execution_count": 10,
   "id": "f1789996",
   "metadata": {},
   "outputs": [
    {
     "data": {
      "text/plain": [
       "torch.Size([1, 768])"
      ]
     },
     "execution_count": 10,
     "metadata": {},
     "output_type": "execute_result"
    }
   ],
   "source": [
    "x.shape"
   ]
  },
  {
   "cell_type": "code",
   "execution_count": null,
   "id": "6ae51270",
   "metadata": {},
   "outputs": [],
   "source": []
  }
 ],
 "metadata": {
  "kernelspec": {
   "display_name": "Python 3 (ipykernel)",
   "language": "python",
   "name": "python3"
  },
  "language_info": {
   "codemirror_mode": {
    "name": "ipython",
    "version": 3
   },
   "file_extension": ".py",
   "mimetype": "text/x-python",
   "name": "python",
   "nbconvert_exporter": "python",
   "pygments_lexer": "ipython3",
   "version": "3.8.12"
  }
 },
 "nbformat": 4,
 "nbformat_minor": 5
}
