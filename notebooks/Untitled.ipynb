{
 "cells": [
  {
   "cell_type": "code",
   "execution_count": 1,
   "id": "cdf50dac",
   "metadata": {},
   "outputs": [
    {
     "data": {
      "text/plain": [
       "array([1, 1])"
      ]
     },
     "execution_count": 1,
     "metadata": {},
     "output_type": "execute_result"
    }
   ],
   "source": [
    "import torch\n",
    "import numpy as np\n",
    "x = torch.tensor([1,1]).to('cuda')\n",
    "x.cpu().numpy()"
   ]
  },
  {
   "cell_type": "code",
   "execution_count": 2,
   "id": "4e114ac4",
   "metadata": {},
   "outputs": [
    {
     "name": "stdout",
     "output_type": "stream",
     "text": [
      "Files already downloaded and verified\n",
      "Files already downloaded and verified\n"
     ]
    }
   ],
   "source": [
    "import torchvision\n",
    "import torch\n",
    "batch_size =50\n",
    "fixed_cset1 = torchvision.datasets.CIFAR10(root='./data', train=True,\n",
    "                                           download=True, transform=None)\n",
    "fixed_cset2 = torchvision.datasets.CIFAR10(root='./data', train=False,\n",
    "                                           download=True, transform=None)\n",
    "fixed_testset = torch.utils.data.ConcatDataset([fixed_cset1, fixed_cset2])\n",
    "\n",
    "fixed_testloader = torch.utils.data.DataLoader(fixed_testset, batch_size=batch_size,\n",
    "                                               shuffle=False)"
   ]
  },
  {
   "cell_type": "code",
   "execution_count": 2,
   "id": "17f94895",
   "metadata": {},
   "outputs": [
    {
     "ename": "AttributeError",
     "evalue": "'ConcatDataset' object has no attribute 'classes'",
     "output_type": "error",
     "traceback": [
      "\u001b[0;31m---------------------------------------------------------------------------\u001b[0m",
      "\u001b[0;31mAttributeError\u001b[0m                            Traceback (most recent call last)",
      "Input \u001b[0;32mIn [2]\u001b[0m, in \u001b[0;36m<cell line: 1>\u001b[0;34m()\u001b[0m\n\u001b[0;32m----> 1\u001b[0m \u001b[38;5;28mlen\u001b[39m(\u001b[43mfixed_testloader\u001b[49m\u001b[38;5;241;43m.\u001b[39;49m\u001b[43mdataset\u001b[49m\u001b[38;5;241;43m.\u001b[39;49m\u001b[43mclasses\u001b[49m)\n",
      "\u001b[0;31mAttributeError\u001b[0m: 'ConcatDataset' object has no attribute 'classes'"
     ]
    }
   ],
   "source": [
    "len(fixed_testloader.dataset.classes)"
   ]
  },
  {
   "cell_type": "code",
   "execution_count": 27,
   "id": "4ef69943",
   "metadata": {},
   "outputs": [
    {
     "data": {
      "text/plain": [
       "['__annotations__',\n",
       " '__call__',\n",
       " '__class__',\n",
       " '__closure__',\n",
       " '__code__',\n",
       " '__defaults__',\n",
       " '__delattr__',\n",
       " '__dict__',\n",
       " '__dir__',\n",
       " '__doc__',\n",
       " '__eq__',\n",
       " '__format__',\n",
       " '__ge__',\n",
       " '__get__',\n",
       " '__getattribute__',\n",
       " '__globals__',\n",
       " '__gt__',\n",
       " '__hash__',\n",
       " '__init__',\n",
       " '__init_subclass__',\n",
       " '__kwdefaults__',\n",
       " '__le__',\n",
       " '__lt__',\n",
       " '__module__',\n",
       " '__name__',\n",
       " '__ne__',\n",
       " '__new__',\n",
       " '__qualname__',\n",
       " '__reduce__',\n",
       " '__reduce_ex__',\n",
       " '__repr__',\n",
       " '__setattr__',\n",
       " '__sizeof__',\n",
       " '__str__',\n",
       " '__subclasshook__']"
      ]
     },
     "execution_count": 27,
     "metadata": {},
     "output_type": "execute_result"
    }
   ],
   "source": [
    "dir(fixed_testset)\n",
    "fixed_testset.cumsum"
   ]
  },
  {
   "cell_type": "code",
   "execution_count": 31,
   "id": "53d21f2d",
   "metadata": {},
   "outputs": [
    {
     "data": {
      "text/plain": [
       "range(0, 50000)"
      ]
     },
     "execution_count": 31,
     "metadata": {},
     "output_type": "execute_result"
    }
   ],
   "source": [
    "range(len(fixed_cset1))"
   ]
  },
  {
   "cell_type": "code",
   "execution_count": 33,
   "id": "5ce38214",
   "metadata": {},
   "outputs": [],
   "source": [
    "x = [y for y in range(60000)]"
   ]
  },
  {
   "cell_type": "code",
   "execution_count": 35,
   "id": "aa31b8a2",
   "metadata": {},
   "outputs": [
    {
     "data": {
      "text/plain": [
       "[49990, 49991, 49992, 49993, 49994, 49995, 49996, 49997, 49998, 49999]"
      ]
     },
     "execution_count": 35,
     "metadata": {},
     "output_type": "execute_result"
    }
   ],
   "source": [
    "x[:len(fixed_cset1)][-10:]"
   ]
  },
  {
   "cell_type": "code",
   "execution_count": 13,
   "id": "ad7d2c42",
   "metadata": {},
   "outputs": [],
   "source": [
    "image_features = torch.tensor([[1.0,7.0,1.0,7.0],[1.0,7.0,1.0,7.0]])\n",
    "image_features = image_features / \\\n",
    "    image_features.norm(dim=-1, keepdim=True)"
   ]
  },
  {
   "cell_type": "code",
   "execution_count": 14,
   "id": "0d5d0e49",
   "metadata": {},
   "outputs": [
    {
     "data": {
      "text/plain": [
       "tensor([[0.1000, 0.7000, 0.1000, 0.7000],\n",
       "        [0.1000, 0.7000, 0.1000, 0.7000]])"
      ]
     },
     "execution_count": 14,
     "metadata": {},
     "output_type": "execute_result"
    }
   ],
   "source": [
    "image_features"
   ]
  },
  {
   "cell_type": "code",
   "execution_count": 11,
   "id": "f1ec30a3",
   "metadata": {},
   "outputs": [
    {
     "data": {
      "text/plain": [
       "tensor([[1.],\n",
       "        [1.]])"
      ]
     },
     "execution_count": 11,
     "metadata": {},
     "output_type": "execute_result"
    }
   ],
   "source": []
  },
  {
   "cell_type": "code",
   "execution_count": 14,
   "id": "846174e3",
   "metadata": {},
   "outputs": [],
   "source": [
    "image_features = torch.tensor([[1.0,1.0,1.0,1.0],[1.0,5.0,5.0,7.0]])\n",
    "text_features = torch.ones((10,4))\n",
    "text_features[:1] =2 "
   ]
  },
  {
   "cell_type": "code",
   "execution_count": 15,
   "id": "a98e51ba",
   "metadata": {},
   "outputs": [],
   "source": [
    "x = image_features @ text_features.t()"
   ]
  },
  {
   "cell_type": "code",
   "execution_count": 16,
   "id": "41a5ded5",
   "metadata": {},
   "outputs": [
    {
     "data": {
      "text/plain": [
       "tensor([[1., 1., 1., 1.],\n",
       "        [1., 5., 5., 7.]])"
      ]
     },
     "execution_count": 16,
     "metadata": {},
     "output_type": "execute_result"
    }
   ],
   "source": [
    "image_features"
   ]
  },
  {
   "cell_type": "code",
   "execution_count": 27,
   "id": "602ac7a8",
   "metadata": {},
   "outputs": [
    {
     "data": {
      "text/plain": [
       "tensor([0, 0])"
      ]
     },
     "execution_count": 27,
     "metadata": {},
     "output_type": "execute_result"
    }
   ],
   "source": [
    "torch.argmax(x,dim=-1)"
   ]
  },
  {
   "cell_type": "code",
   "execution_count": 19,
   "id": "ce18572f",
   "metadata": {},
   "outputs": [
    {
     "data": {
      "text/plain": [
       "tensor([[ 8.,  4.,  4.,  4.,  4.,  4.,  4.,  4.,  4.,  4.],\n",
       "        [36., 18., 18., 18., 18., 18., 18., 18., 18., 18.]])"
      ]
     },
     "execution_count": 19,
     "metadata": {},
     "output_type": "execute_result"
    }
   ],
   "source": [
    "x"
   ]
  },
  {
   "cell_type": "code",
   "execution_count": 29,
   "id": "c1b47b47",
   "metadata": {},
   "outputs": [
    {
     "data": {
      "text/plain": [
       "(2, 2)"
      ]
     },
     "execution_count": 29,
     "metadata": {},
     "output_type": "execute_result"
    }
   ],
   "source": [
    "x = np.array([[1,2],[3,4]])\n",
    "y = np.array([[1],[2]])\n",
    "\n",
    "x.shape"
   ]
  },
  {
   "cell_type": "code",
   "execution_count": 30,
   "id": "64ee4806",
   "metadata": {},
   "outputs": [
    {
     "data": {
      "text/plain": [
       "(2, 1)"
      ]
     },
     "execution_count": 30,
     "metadata": {},
     "output_type": "execute_result"
    }
   ],
   "source": [
    "y.shape"
   ]
  },
  {
   "cell_type": "code",
   "execution_count": 33,
   "id": "e2e02575",
   "metadata": {},
   "outputs": [
    {
     "data": {
      "text/plain": [
       "array([[ 7],\n",
       "       [10]])"
      ]
     },
     "execution_count": 33,
     "metadata": {},
     "output_type": "execute_result"
    }
   ],
   "source": [
    "x.T @ y"
   ]
  },
  {
   "cell_type": "code",
   "execution_count": 34,
   "id": "d2f9433d",
   "metadata": {},
   "outputs": [
    {
     "data": {
      "text/plain": [
       "array([[ 5],\n",
       "       [11]])"
      ]
     },
     "execution_count": 34,
     "metadata": {},
     "output_type": "execute_result"
    }
   ],
   "source": [
    "x @ y"
   ]
  },
  {
   "cell_type": "code",
   "execution_count": 35,
   "id": "eb94e3db",
   "metadata": {},
   "outputs": [
    {
     "name": "stdout",
     "output_type": "stream",
     "text": [
      "3\n"
     ]
    }
   ],
   "source": [
    "def add(x):\n",
    "    print(x)\n",
    "add(3)"
   ]
  },
  {
   "cell_type": "code",
   "execution_count": 37,
   "id": "b4e167dd",
   "metadata": {},
   "outputs": [
    {
     "data": {
      "text/plain": [
       "<function __main__.add(x)>"
      ]
     },
     "execution_count": 37,
     "metadata": {},
     "output_type": "execute_result"
    }
   ],
   "source": [
    "dd = add\n",
    "dd"
   ]
  },
  {
   "cell_type": "code",
   "execution_count": 38,
   "id": "6e7cd01a",
   "metadata": {},
   "outputs": [
    {
     "name": "stdout",
     "output_type": "stream",
     "text": [
      "<function add at 0x7f3628439a60>\n"
     ]
    }
   ],
   "source": [
    "dd(add)"
   ]
  },
  {
   "cell_type": "code",
   "execution_count": 40,
   "id": "f1992132",
   "metadata": {},
   "outputs": [
    {
     "data": {
      "text/plain": [
       "tensor([[1, 2],\n",
       "        [3, 4]])"
      ]
     },
     "execution_count": 40,
     "metadata": {},
     "output_type": "execute_result"
    }
   ],
   "source": [
    "torch.LongTensor(x)"
   ]
  },
  {
   "cell_type": "code",
   "execution_count": 4,
   "id": "9773499b",
   "metadata": {},
   "outputs": [
    {
     "ename": "SyntaxError",
     "evalue": "unexpected character after line continuation character (<ipython-input-4-ea970a0bb218>, line 1)",
     "output_type": "error",
     "traceback": [
      "\u001b[0;36m  File \u001b[0;32m\"<ipython-input-4-ea970a0bb218>\"\u001b[0;36m, line \u001b[0;32m1\u001b[0m\n\u001b[0;31m    if 1 == 1: print('hi') \\ else: print('hi')\u001b[0m\n\u001b[0m                                              ^\u001b[0m\n\u001b[0;31mSyntaxError\u001b[0m\u001b[0;31m:\u001b[0m unexpected character after line continuation character\n"
     ]
    }
   ],
   "source": [
    "if 1 == 1: print('hi')\n",
    "else: print('hi')"
   ]
  },
  {
   "cell_type": "code",
   "execution_count": 8,
   "id": "f1d246b4",
   "metadata": {},
   "outputs": [],
   "source": [
    "import torch\n",
    "lr = 0.001\n",
    "model = torch.nn.Sequential(\n",
    "    torch.nn.Linear(3, 1),\n",
    "    torch.nn.Flatten(0, 1)\n",
    ")\n",
    "\n",
    "optimizer = torch.optim.Adam(\n",
    "    model.parameters(),\n",
    "    lr=lr,\n",
    "    weight_decay=5e-4,\n",
    "    betas=(0.9, 0.999),\n",
    ")"
   ]
  },
  {
   "cell_type": "code",
   "execution_count": 22,
   "id": "f2855e6a",
   "metadata": {},
   "outputs": [
    {
     "data": {
      "text/plain": [
       "['__call__',\n",
       " '__class__',\n",
       " '__delattr__',\n",
       " '__dir__',\n",
       " '__doc__',\n",
       " '__eq__',\n",
       " '__format__',\n",
       " '__func__',\n",
       " '__ge__',\n",
       " '__get__',\n",
       " '__getattribute__',\n",
       " '__gt__',\n",
       " '__hash__',\n",
       " '__init__',\n",
       " '__init_subclass__',\n",
       " '__le__',\n",
       " '__lt__',\n",
       " '__ne__',\n",
       " '__new__',\n",
       " '__reduce__',\n",
       " '__reduce_ex__',\n",
       " '__repr__',\n",
       " '__self__',\n",
       " '__setattr__',\n",
       " '__sizeof__',\n",
       " '__str__',\n",
       " '__subclasshook__']"
      ]
     },
     "execution_count": 22,
     "metadata": {},
     "output_type": "execute_result"
    }
   ],
   "source": [
    "dir(optimizer.state_dict)"
   ]
  },
  {
   "cell_type": "code",
   "execution_count": 23,
   "id": "3f9013c7",
   "metadata": {},
   "outputs": [
    {
     "data": {
      "text/plain": [
       "['__class__',\n",
       " '__delattr__',\n",
       " '__dict__',\n",
       " '__dir__',\n",
       " '__doc__',\n",
       " '__eq__',\n",
       " '__format__',\n",
       " '__ge__',\n",
       " '__getattribute__',\n",
       " '__getstate__',\n",
       " '__gt__',\n",
       " '__hash__',\n",
       " '__init__',\n",
       " '__init_subclass__',\n",
       " '__le__',\n",
       " '__lt__',\n",
       " '__module__',\n",
       " '__ne__',\n",
       " '__new__',\n",
       " '__reduce__',\n",
       " '__reduce_ex__',\n",
       " '__repr__',\n",
       " '__setattr__',\n",
       " '__setstate__',\n",
       " '__sizeof__',\n",
       " '__str__',\n",
       " '__subclasshook__',\n",
       " '__weakref__',\n",
       " '_hook_for_profile',\n",
       " '_zero_grad_profile_name',\n",
       " 'add_param_group',\n",
       " 'defaults',\n",
       " 'load_state_dict',\n",
       " 'param_groups',\n",
       " 'state',\n",
       " 'state_dict',\n",
       " 'step',\n",
       " 'zero_grad']"
      ]
     },
     "execution_count": 23,
     "metadata": {},
     "output_type": "execute_result"
    }
   ],
   "source": [
    "dir(optimizer)"
   ]
  },
  {
   "cell_type": "code",
   "execution_count": 28,
   "id": "9a13a36d",
   "metadata": {},
   "outputs": [
    {
     "data": {
      "text/plain": [
       "Adam (\n",
       "Parameter Group 0\n",
       "    amsgrad: False\n",
       "    betas: (0.9, 0.999)\n",
       "    eps: 1e-08\n",
       "    lr: 0.001\n",
       "    weight_decay: 0.0005\n",
       ")"
      ]
     },
     "execution_count": 28,
     "metadata": {},
     "output_type": "execute_result"
    }
   ],
   "source": [
    "optimizer"
   ]
  },
  {
   "cell_type": "code",
   "execution_count": 30,
   "id": "56c19fb8",
   "metadata": {},
   "outputs": [],
   "source": [
    "scheduler = torch.optim.lr_scheduler.StepLR(optimizer, step_size=1000, gamma=0.5)"
   ]
  },
  {
   "cell_type": "code",
   "execution_count": 38,
   "id": "8d37db89",
   "metadata": {},
   "outputs": [],
   "source": [
    "scheduler.step()"
   ]
  },
  {
   "cell_type": "code",
   "execution_count": 42,
   "id": "f1b90d15",
   "metadata": {},
   "outputs": [
    {
     "name": "stdout",
     "output_type": "stream",
     "text": [
      "['RN50', 'RN101', 'RN50x4', 'RN50x16', 'RN50x64', 'ViT-B/32', 'ViT-B/16', 'ViT-L/14', 'ViT-L/14@336px']\n"
     ]
    }
   ],
   "source": [
    "import clip\n",
    "print(clip.available_models())"
   ]
  },
  {
   "cell_type": "code",
   "execution_count": 44,
   "id": "b359bdab",
   "metadata": {},
   "outputs": [
    {
     "data": {
      "text/plain": [
       "'npy_folder/_tt_dd_test_cluster.npy'"
      ]
     },
     "execution_count": 44,
     "metadata": {},
     "output_type": "execute_result"
    }
   ],
   "source": [
    "dataset_name = 'tt'\n",
    "clip_backbone = 'dd'\n",
    "x = '_'.join(['npy_folder/',dataset_name, clip_backbone,'test_cluster.npy'])\n",
    "x"
   ]
  },
  {
   "cell_type": "code",
   "execution_count": 46,
   "id": "1e3fafd9",
   "metadata": {},
   "outputs": [],
   "source": [
    "clip_backbone = 'ViT-B/32'"
   ]
  },
  {
   "cell_type": "code",
   "execution_count": 50,
   "id": "e25be7d7",
   "metadata": {},
   "outputs": [],
   "source": [
    "if '/' in clip_backbone:\n",
    "    clip_backbone = clip_backbone.replace('/','_')"
   ]
  },
  {
   "cell_type": "code",
   "execution_count": 52,
   "id": "d07537f0",
   "metadata": {},
   "outputs": [],
   "source": [
    "clip_backbone = 'tt'"
   ]
  },
  {
   "cell_type": "code",
   "execution_count": 53,
   "id": "343abc68",
   "metadata": {},
   "outputs": [],
   "source": [
    "clip_backbone = clip_backbone.replace('/','_')"
   ]
  },
  {
   "cell_type": "code",
   "execution_count": 54,
   "id": "84f5553c",
   "metadata": {},
   "outputs": [
    {
     "data": {
      "text/plain": [
       "'tt'"
      ]
     },
     "execution_count": 54,
     "metadata": {},
     "output_type": "execute_result"
    }
   ],
   "source": [
    "clip_backbone"
   ]
  },
  {
   "cell_type": "code",
   "execution_count": 39,
   "id": "92c422be",
   "metadata": {},
   "outputs": [
    {
     "data": {
      "text/plain": [
       "['a X X X X X X X X X X X X X X X X 0.',\n",
       " 'a X X X X X X X X X X X X X X X X 1.',\n",
       " 'a X X X X X X X X X X X X X X X X 2.',\n",
       " 'a X X X X X X X X X X X X X X X X 3.',\n",
       " 'a X X X X X X X X X X X X X X X X 4.',\n",
       " 'a X X X X X X X X X X X X X X X X 5.',\n",
       " 'a X X X X X X X X X X X X X X X X 6.',\n",
       " 'a X X X X X X X X X X X X X X X X 7.',\n",
       " 'a X X X X X X X X X X X X X X X X 8.',\n",
       " 'a X X X X X X X X X X X X X X X X 9.']"
      ]
     },
     "execution_count": 39,
     "metadata": {},
     "output_type": "execute_result"
    }
   ],
   "source": [
    "n_ctx = 16\n",
    "name = 'y'\n",
    "prompt_prefix = \" \".join([\"X\"]*n_ctx)\n",
    "prompt_prefix = 'a ' + prompt_prefix\n",
    "classnames = [str(i) for i in range(10)]\n",
    "prompts = [prompt_prefix + \" \"+ name+\".\" for name in classnames]\n",
    "prompts"
   ]
  },
  {
   "cell_type": "code",
   "execution_count": 40,
   "id": "bf4629a3",
   "metadata": {},
   "outputs": [],
   "source": [
    "prompts = \" \".join(prompts)"
   ]
  },
  {
   "cell_type": "code",
   "execution_count": 41,
   "id": "c9f54dc2",
   "metadata": {},
   "outputs": [],
   "source": [
    "prompt_prefix = prompt_prefix + ' b'"
   ]
  },
  {
   "cell_type": "code",
   "execution_count": 42,
   "id": "3d0212af",
   "metadata": {},
   "outputs": [
    {
     "data": {
      "text/plain": [
       "['a',\n",
       " 'X',\n",
       " 'X',\n",
       " 'X',\n",
       " 'X',\n",
       " 'X',\n",
       " 'X',\n",
       " 'X',\n",
       " 'X',\n",
       " 'X',\n",
       " 'X',\n",
       " 'X',\n",
       " 'X',\n",
       " 'X',\n",
       " 'X',\n",
       " 'X',\n",
       " 'X',\n",
       " 'b']"
      ]
     },
     "execution_count": 42,
     "metadata": {},
     "output_type": "execute_result"
    }
   ],
   "source": [
    "prompt_prefix = prompt_prefix.split(' ')\n",
    "prompt_prefix"
   ]
  },
  {
   "cell_type": "code",
   "execution_count": 43,
   "id": "03816f01",
   "metadata": {},
   "outputs": [
    {
     "data": {
      "text/plain": [
       "['a']"
      ]
     },
     "execution_count": 43,
     "metadata": {},
     "output_type": "execute_result"
    }
   ],
   "source": [
    "prompt_prefix[:1]"
   ]
  },
  {
   "cell_type": "code",
   "execution_count": 44,
   "id": "61a4be7c",
   "metadata": {},
   "outputs": [
    {
     "data": {
      "text/plain": [
       "['b']"
      ]
     },
     "execution_count": 44,
     "metadata": {},
     "output_type": "execute_result"
    }
   ],
   "source": [
    "prompt_prefix[1+n_ctx:]"
   ]
  },
  {
   "cell_type": "code",
   "execution_count": null,
   "id": "f8ca4dfd",
   "metadata": {},
   "outputs": [],
   "source": []
  }
 ],
 "metadata": {
  "kernelspec": {
   "display_name": "Python 3",
   "language": "python",
   "name": "python3"
  },
  "language_info": {
   "codemirror_mode": {
    "name": "ipython",
    "version": 3
   },
   "file_extension": ".py",
   "mimetype": "text/x-python",
   "name": "python",
   "nbconvert_exporter": "python",
   "pygments_lexer": "ipython3",
   "version": "3.6.15"
  }
 },
 "nbformat": 4,
 "nbformat_minor": 5
}
